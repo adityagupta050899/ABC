{
 "cells": [
  {
   "cell_type": "code",
   "execution_count": 2,
   "id": "039f69a1-9232-4f80-97b1-9d5e67e4f2db",
   "metadata": {},
   "outputs": [
    {
     "name": "stdout",
     "output_type": "stream",
     "text": [
      "\u001b[33mWARNING: Skipping /usr/lib/python3.12/dist-packages/charset_normalizer-3.3.2.dist-info due to invalid metadata entry 'name'\u001b[0m\u001b[33m\n",
      "\u001b[0mRequirement already satisfied: boto3 in /usr/lib/python3/dist-packages (1.34.46)\n",
      "\u001b[33mWARNING: Skipping /usr/lib/python3.12/dist-packages/charset_normalizer-3.3.2.dist-info due to invalid metadata entry 'name'\u001b[0m\u001b[33m\n",
      "\u001b[0mNote: you may need to restart the kernel to use updated packages.\n"
     ]
    }
   ],
   "source": [
    "pip install boto3"
   ]
  },
  {
   "cell_type": "code",
   "execution_count": 1,
   "id": "0d2a305a-56f9-44c2-ac47-189201f3219f",
   "metadata": {},
   "outputs": [],
   "source": [
    "import boto3"
   ]
  },
  {
   "cell_type": "code",
   "execution_count": 2,
   "id": "a87270e8-d5b8-405e-a347-a039a3ec5c82",
   "metadata": {},
   "outputs": [
    {
     "name": "stdout",
     "output_type": "stream",
     "text": [
      "Hit:1 http://us-east-1.ec2.archive.ubuntu.com/ubuntu noble InRelease\n",
      "Get:2 http://us-east-1.ec2.archive.ubuntu.com/ubuntu noble-updates InRelease [126 kB]\n",
      "Get:3 https://cloud.r-project.org/bin/linux/ubuntu noble-cran40/ InRelease [3631 B]\n",
      "Get:4 http://us-east-1.ec2.archive.ubuntu.com/ubuntu noble-backports InRelease [126 kB]\n",
      "Get:5 http://security.ubuntu.com/ubuntu noble-security InRelease [126 kB]      \n",
      "Get:6 http://us-east-1.ec2.archive.ubuntu.com/ubuntu noble-updates/main amd64 Packages [916 kB]\n",
      "Get:7 http://us-east-1.ec2.archive.ubuntu.com/ubuntu noble-updates/main Translation-en [206 kB]\n",
      "Get:8 http://us-east-1.ec2.archive.ubuntu.com/ubuntu noble-updates/main amd64 Components [151 kB]\n",
      "Get:9 http://us-east-1.ec2.archive.ubuntu.com/ubuntu noble-updates/universe amd64 Packages [1040 kB]\n",
      "Get:10 http://us-east-1.ec2.archive.ubuntu.com/ubuntu noble-updates/universe Translation-en [261 kB]\n",
      "Get:11 http://us-east-1.ec2.archive.ubuntu.com/ubuntu noble-updates/universe amd64 Components [364 kB]\n",
      "Get:12 http://us-east-1.ec2.archive.ubuntu.com/ubuntu noble-updates/restricted amd64 Packages [754 kB]\n",
      "Get:13 http://us-east-1.ec2.archive.ubuntu.com/ubuntu noble-updates/restricted Translation-en [151 kB]\n",
      "Get:14 http://us-east-1.ec2.archive.ubuntu.com/ubuntu noble-updates/restricted amd64 Components [212 B]\n",
      "Get:15 http://us-east-1.ec2.archive.ubuntu.com/ubuntu noble-updates/multiverse amd64 Packages [30.1 kB]\n",
      "Get:16 http://us-east-1.ec2.archive.ubuntu.com/ubuntu noble-updates/multiverse Translation-en [5884 B]\n",
      "Get:17 http://us-east-1.ec2.archive.ubuntu.com/ubuntu noble-updates/multiverse amd64 Components [940 B]\n",
      "Get:18 https://cloud.r-project.org/bin/linux/ubuntu noble-cran40/ Packages [24.4 kB]\n",
      "Get:19 http://us-east-1.ec2.archive.ubuntu.com/ubuntu noble-backports/main amd64 Components [208 B]\n",
      "Get:20 http://us-east-1.ec2.archive.ubuntu.com/ubuntu noble-backports/universe amd64 Packages [14.2 kB]\n",
      "Get:21 http://us-east-1.ec2.archive.ubuntu.com/ubuntu noble-backports/universe Translation-en [12.1 kB]\n",
      "Get:22 http://us-east-1.ec2.archive.ubuntu.com/ubuntu noble-backports/universe amd64 Components [20.0 kB]\n",
      "Get:23 http://us-east-1.ec2.archive.ubuntu.com/ubuntu noble-backports/restricted amd64 Components [216 B]\n",
      "Get:24 http://us-east-1.ec2.archive.ubuntu.com/ubuntu noble-backports/multiverse amd64 Components [212 B]\n",
      "Get:25 http://security.ubuntu.com/ubuntu noble-security/main amd64 Packages [668 kB]\n",
      "Get:26 http://security.ubuntu.com/ubuntu noble-security/main Translation-en [128 kB]\u001b[33m\n",
      "Get:27 http://security.ubuntu.com/ubuntu noble-security/main amd64 Components [8972 B]\n",
      "Get:28 http://security.ubuntu.com/ubuntu noble-security/universe amd64 Packages [823 kB]\n",
      "Get:29 http://security.ubuntu.com/ubuntu noble-security/universe Translation-en [177 kB]\n",
      "Get:30 http://security.ubuntu.com/ubuntu noble-security/universe amd64 Components [51.9 kB]\n",
      "Get:31 http://security.ubuntu.com/ubuntu noble-security/restricted amd64 Packages [719 kB]\n",
      "Get:32 http://security.ubuntu.com/ubuntu noble-security/restricted Translation-en [143 kB]\n",
      "Get:33 http://security.ubuntu.com/ubuntu noble-security/restricted amd64 Components [212 B]\n",
      "Get:34 http://security.ubuntu.com/ubuntu noble-security/multiverse amd64 Packages [26.2 kB]\n",
      "Get:35 http://security.ubuntu.com/ubuntu noble-security/multiverse Translation-en [4892 B]\n",
      "Get:36 http://security.ubuntu.com/ubuntu noble-security/multiverse amd64 Components [212 B]\n",
      "Fetched 7082 kB in 2s (3500 kB/s)   \u001b[0m\u001b[33m                   \u001b[0m\u001b[33m\u001b[33m\n",
      "Reading package lists... Done\n",
      "Building dependency tree... Done\n",
      "Reading state information... Done\n",
      "263 packages can be upgraded. Run 'apt list --upgradable' to see them.\n",
      "Reading package lists... Done\n",
      "Building dependency tree... Done\n",
      "Reading state information... Done\n",
      "Package awscli is not available, but is referred to by another package.\n",
      "This may mean that the package is missing, has been obsoleted, or\n",
      "is only available from another source\n",
      "\n",
      "\u001b[1;31mE: \u001b[0mPackage 'awscli' has no installation candidate\u001b[0m\n",
      "/bin/bash: line 1: aws: command not found\n"
     ]
    }
   ],
   "source": [
    "!sudo apt update && sudo apt install -y awscli\n",
    "!aws sts get-caller-identity"
   ]
  },
  {
   "cell_type": "code",
   "execution_count": 4,
   "id": "99504b99-e507-4cef-bd21-45a943775555",
   "metadata": {},
   "outputs": [
    {
     "name": "stdout",
     "output_type": "stream",
     "text": [
      "Final Generated Response:\n",
      "  I am trying to create a report for a suspicious transaction on my bank account. Here is the information you requested:\n",
      "\n",
      "*   Bank account type: Checking\n",
      "*   Transaction type: Wire transfer\n",
      "*   Date: 2023-02-15\n",
      "*   Time: 14:30\n",
      "*   Amount: $2,500\n",
      "*   Receiver: John Doe\n",
      "*   Sender: Jane Smith\n",
      "*   IP address: 192.168.1.100\n",
      "*   Device: Laptop\n",
      "*   Browser: Chrome\n",
      "*   Location: 123 Main St, Anytown, USA\n",
      "*   Description: The transaction was initiated from a laptop at the specified location. The IP address and device information match the account holder's information. However, the sender's name and IP address do not match the account holder's information.\n",
      "\n",
      "Here is an example SAR:\n",
      "\n",
      "**Suspicious Activity Report**\n",
      "\n",
      "**Date:** 2023-02-15\n",
      "**Time:** 14:30\n",
      "**Account Type:** Checking\n",
      "**Transaction Type:** Wire transfer\n",
      "**Amount:** $2,500\n",
      "**Receiver:** John Doe\n",
      "**Sender:** Jane Smith\n",
      "**IP Address:** 192.168.1.100\n",
      "**Device:** Laptop\n",
      "**Browser:** Chrome\n",
      "**Location:** 123 Main St, Anytown, USA\n",
      "\n",
      "**Description:** The transaction was initiated from a laptop at the specified location. The IP address and device information match the account holder's information. However, the sender's name and IP address do not match the account holder's information.\n",
      "\n",
      "**Suspicious Activity Indicators:**\n",
      "\n",
      "*   Unusual sender information\n",
      "*   Unusual IP address\n",
      "\n",
      "**Account Holder Information:**\n",
      "\n",
      "*   Name: [Your Name]\n",
      "*   Address: [Your Address]\n",
      "*   Phone Number: [Your Phone Number]\n",
      "*   Email: [Your Email]\n",
      "\n",
      "**Additional Information:**\n",
      "\n",
      "*   This transaction was initiated during normal business hours.\n",
      "*   The account holder has not reported any suspicious activity.\n",
      "\n",
      "**Recommendations:**\n",
      "\n",
      "*   Review the account holder's information to ensure accuracy.\n",
      "*   Verify the sender's information to ensure legitimacy.\n",
      "*   Monitor the account for any further suspicious activity.\n",
      "\n",
      "**Certification:**\n",
      "\n",
      "I, [Your Name], certify that the information provided in this report is accurate and true to the best of my knowledge.\n",
      "\n",
      "**Signature:** [Your Signature]\n",
      "**Date:** [Current Date]\n",
      "\n",
      "Please note that this is just an example and you should modify it to fit your specific situation. Also, please keep\n"
     ]
    }
   ],
   "source": [
    "import boto3\n",
    "import json\n",
    "client = boto3.client(\"bedrock-runtime\", region_name=\"us-east-1\")\n",
    "#  LLaMA 3 Inference Profile ID\n",
    "inference_profile_id = \"us.meta.llama3-2-11b-instruct-v1:0\"\n",
    "# Prompt\n",
    "payload = {\"prompt\": \"Can you please create an example SAR(Suspicious activity report) for me?\"}\n",
    "#  Bedrock API\n",
    "response = client.invoke_model_with_response_stream(\n",
    "    modelId=inference_profile_id,\n",
    "    body=json.dumps(payload)\n",
    ")\n",
    "# together\n",
    "generated_text = \"\"\n",
    "for event in response[\"body\"]:\n",
    "    chunk = json.loads(event[\"chunk\"][\"bytes\"].decode(\"utf-8\"))\n",
    "    if \"generation\" in chunk:\n",
    "        generated_text += chunk[\"generation\"]\n",
    "# output\n",
    "print(\"Final Generated Response:\\n\", generated_text)"
   ]
  },
  {
   "cell_type": "code",
   "execution_count": null,
   "id": "a609ce1d-0e76-4da2-93a6-1becd9c2315e",
   "metadata": {},
   "outputs": [],
   "source": []
  }
 ],
 "metadata": {
  "kernelspec": {
   "display_name": "Python 3 (ipykernel)",
   "language": "python",
   "name": "python3"
  },
  "language_info": {
   "codemirror_mode": {
    "name": "ipython",
    "version": 3
   },
   "file_extension": ".py",
   "mimetype": "text/x-python",
   "name": "python",
   "nbconvert_exporter": "python",
   "pygments_lexer": "ipython3",
   "version": "3.12.3"
  }
 },
 "nbformat": 4,
 "nbformat_minor": 5
}
